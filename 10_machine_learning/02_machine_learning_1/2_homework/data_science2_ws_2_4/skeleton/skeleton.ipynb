{
 "cells": [
  {
   "cell_type": "code",
   "execution_count": 1,
   "id": "eb2ce578",
   "metadata": {},
   "outputs": [],
   "source": [
    "import pandas as pd\n",
    "from sklearn.model_selection import train_test_split\n",
    "from sklearn.preprocessing import StandardScaler\n",
    "from sklearn.neighbors import KNeighborsClassifier\n",
    "from sklearn.metrics import classification_report, confusion_matrix, accuracy_score"
   ]
  },
  {
   "cell_type": "code",
   "execution_count": 2,
   "metadata": {},
   "outputs": [
    {
     "data": {
      "text/html": [
       "<div>\n",
       "<style scoped>\n",
       "    .dataframe tbody tr th:only-of-type {\n",
       "        vertical-align: middle;\n",
       "    }\n",
       "\n",
       "    .dataframe tbody tr th {\n",
       "        vertical-align: top;\n",
       "    }\n",
       "\n",
       "    .dataframe thead th {\n",
       "        text-align: right;\n",
       "    }\n",
       "</style>\n",
       "<table border=\"1\" class=\"dataframe\">\n",
       "  <thead>\n",
       "    <tr style=\"text-align: right;\">\n",
       "      <th></th>\n",
       "      <th>일자</th>\n",
       "      <th>요일</th>\n",
       "      <th>지점명</th>\n",
       "      <th>지점번호</th>\n",
       "      <th>방향</th>\n",
       "      <th>구분</th>\n",
       "      <th>0시</th>\n",
       "      <th>1시</th>\n",
       "      <th>2시</th>\n",
       "      <th>3시</th>\n",
       "      <th>...</th>\n",
       "      <th>17시</th>\n",
       "      <th>18시</th>\n",
       "      <th>19시</th>\n",
       "      <th>20시</th>\n",
       "      <th>21시</th>\n",
       "      <th>22시</th>\n",
       "      <th>23시</th>\n",
       "      <th>혼잡</th>\n",
       "      <th>평균교통량</th>\n",
       "      <th>새로운 혼잡</th>\n",
       "    </tr>\n",
       "  </thead>\n",
       "  <tbody>\n",
       "    <tr>\n",
       "      <th>0</th>\n",
       "      <td>20240801</td>\n",
       "      <td>목</td>\n",
       "      <td>마포대교</td>\n",
       "      <td>C-07</td>\n",
       "      <td>유입</td>\n",
       "      <td>마포대교남단-&gt;마포대교북단</td>\n",
       "      <td>1121.100127</td>\n",
       "      <td>739.396817</td>\n",
       "      <td>603.646236</td>\n",
       "      <td>429.588089</td>\n",
       "      <td>...</td>\n",
       "      <td>3982.454958</td>\n",
       "      <td>3465.886595</td>\n",
       "      <td>2569.941716</td>\n",
       "      <td>2727.605192</td>\n",
       "      <td>2393.113295</td>\n",
       "      <td>2159.360088</td>\n",
       "      <td>1520.158999</td>\n",
       "      <td>True</td>\n",
       "      <td>2564.041667</td>\n",
       "      <td>False</td>\n",
       "    </tr>\n",
       "    <tr>\n",
       "      <th>1</th>\n",
       "      <td>20240802</td>\n",
       "      <td>금</td>\n",
       "      <td>마포대교</td>\n",
       "      <td>C-07</td>\n",
       "      <td>유입</td>\n",
       "      <td>마포대교남단-&gt;마포대교북단</td>\n",
       "      <td>1064.668712</td>\n",
       "      <td>758.031761</td>\n",
       "      <td>487.068186</td>\n",
       "      <td>397.855528</td>\n",
       "      <td>...</td>\n",
       "      <td>3890.244416</td>\n",
       "      <td>3425.769366</td>\n",
       "      <td>2954.749926</td>\n",
       "      <td>2613.879546</td>\n",
       "      <td>2301.021973</td>\n",
       "      <td>2244.874364</td>\n",
       "      <td>1496.910955</td>\n",
       "      <td>True</td>\n",
       "      <td>2516.208333</td>\n",
       "      <td>False</td>\n",
       "    </tr>\n",
       "    <tr>\n",
       "      <th>2</th>\n",
       "      <td>20240805</td>\n",
       "      <td>월</td>\n",
       "      <td>마포대교</td>\n",
       "      <td>C-07</td>\n",
       "      <td>유입</td>\n",
       "      <td>마포대교남단-&gt;마포대교북단</td>\n",
       "      <td>616.797360</td>\n",
       "      <td>464.364338</td>\n",
       "      <td>337.000433</td>\n",
       "      <td>282.774209</td>\n",
       "      <td>...</td>\n",
       "      <td>3865.243889</td>\n",
       "      <td>3743.189576</td>\n",
       "      <td>2772.238162</td>\n",
       "      <td>2506.984733</td>\n",
       "      <td>2199.044578</td>\n",
       "      <td>2080.754404</td>\n",
       "      <td>1571.072355</td>\n",
       "      <td>False</td>\n",
       "      <td>2355.000000</td>\n",
       "      <td>False</td>\n",
       "    </tr>\n",
       "    <tr>\n",
       "      <th>3</th>\n",
       "      <td>20240806</td>\n",
       "      <td>화</td>\n",
       "      <td>마포대교</td>\n",
       "      <td>C-07</td>\n",
       "      <td>유입</td>\n",
       "      <td>마포대교남단-&gt;마포대교북단</td>\n",
       "      <td>1063.667580</td>\n",
       "      <td>687.378212</td>\n",
       "      <td>416.206495</td>\n",
       "      <td>339.725827</td>\n",
       "      <td>...</td>\n",
       "      <td>3839.879003</td>\n",
       "      <td>4042.135076</td>\n",
       "      <td>2663.051395</td>\n",
       "      <td>2346.262683</td>\n",
       "      <td>2647.551173</td>\n",
       "      <td>1916.299569</td>\n",
       "      <td>1523.996405</td>\n",
       "      <td>False</td>\n",
       "      <td>2488.666667</td>\n",
       "      <td>False</td>\n",
       "    </tr>\n",
       "    <tr>\n",
       "      <th>4</th>\n",
       "      <td>20240807</td>\n",
       "      <td>수</td>\n",
       "      <td>마포대교</td>\n",
       "      <td>C-07</td>\n",
       "      <td>유입</td>\n",
       "      <td>마포대교남단-&gt;마포대교북단</td>\n",
       "      <td>1042.007691</td>\n",
       "      <td>754.815160</td>\n",
       "      <td>531.468487</td>\n",
       "      <td>363.953378</td>\n",
       "      <td>...</td>\n",
       "      <td>3840.413752</td>\n",
       "      <td>3650.694194</td>\n",
       "      <td>2892.151038</td>\n",
       "      <td>2472.565715</td>\n",
       "      <td>2729.293114</td>\n",
       "      <td>2335.362316</td>\n",
       "      <td>1478.987119</td>\n",
       "      <td>True</td>\n",
       "      <td>2549.875000</td>\n",
       "      <td>False</td>\n",
       "    </tr>\n",
       "  </tbody>\n",
       "</table>\n",
       "<p>5 rows × 33 columns</p>\n",
       "</div>"
      ],
      "text/plain": [
       "         일자 요일   지점명  지점번호  방향              구분           0시          1시  \\\n",
       "0  20240801  목  마포대교  C-07  유입  마포대교남단->마포대교북단  1121.100127  739.396817   \n",
       "1  20240802  금  마포대교  C-07  유입  마포대교남단->마포대교북단  1064.668712  758.031761   \n",
       "2  20240805  월  마포대교  C-07  유입  마포대교남단->마포대교북단   616.797360  464.364338   \n",
       "3  20240806  화  마포대교  C-07  유입  마포대교남단->마포대교북단  1063.667580  687.378212   \n",
       "4  20240807  수  마포대교  C-07  유입  마포대교남단->마포대교북단  1042.007691  754.815160   \n",
       "\n",
       "           2시          3시  ...          17시          18시          19시  \\\n",
       "0  603.646236  429.588089  ...  3982.454958  3465.886595  2569.941716   \n",
       "1  487.068186  397.855528  ...  3890.244416  3425.769366  2954.749926   \n",
       "2  337.000433  282.774209  ...  3865.243889  3743.189576  2772.238162   \n",
       "3  416.206495  339.725827  ...  3839.879003  4042.135076  2663.051395   \n",
       "4  531.468487  363.953378  ...  3840.413752  3650.694194  2892.151038   \n",
       "\n",
       "           20시          21시          22시          23시     혼잡        평균교통량  \\\n",
       "0  2727.605192  2393.113295  2159.360088  1520.158999   True  2564.041667   \n",
       "1  2613.879546  2301.021973  2244.874364  1496.910955   True  2516.208333   \n",
       "2  2506.984733  2199.044578  2080.754404  1571.072355  False  2355.000000   \n",
       "3  2346.262683  2647.551173  1916.299569  1523.996405  False  2488.666667   \n",
       "4  2472.565715  2729.293114  2335.362316  1478.987119   True  2549.875000   \n",
       "\n",
       "   새로운 혼잡  \n",
       "0   False  \n",
       "1   False  \n",
       "2   False  \n",
       "3   False  \n",
       "4   False  \n",
       "\n",
       "[5 rows x 33 columns]"
      ]
     },
     "execution_count": 2,
     "metadata": {},
     "output_type": "execute_result"
    }
   ],
   "source": [
    "# 1. 데이터 로드\n",
    "df = pd.read_excel('../data/weekday_traffic.xlsx')\n",
    "df.head()"
   ]
  },
  {
   "cell_type": "code",
   "execution_count": 3,
   "id": "56f3b46b",
   "metadata": {},
   "outputs": [],
   "source": [
    "# 2. 독립 변수(X)와 종속 변수(y) 설정\n",
    "X = df.loc[:, '0시':'23시']  # 시간대별 교통량 데이터를 독립 변수로 사용\n",
    "y = df['혼잡']  # 혼잡 여부를 종속 변수로 설정"
   ]
  },
  {
   "cell_type": "code",
   "execution_count": 4,
   "id": "9c3bf2dc",
   "metadata": {},
   "outputs": [],
   "source": [
    "# 3. 학습 데이터와 테스트 데이터 분리\n",
    "# train_test_split()을 사용해 데이터를 훈련 세트(70%)와 테스트 세트(30%)로 분리합니다.\n",
    "# stratify 옵션은 종속 변수의 클래스 비율을 유지하도록 합니다. (참고: https://scikit-learn.org/stable/modules/generated/sklearn.model_selection.train_test_split.html)\n",
    "X_train, X_test, y_train, y_test = train_test_split(X, y, test_size=0.3, stratify=y)"
   ]
  },
  {
   "cell_type": "code",
   "execution_count": 5,
   "metadata": {},
   "outputs": [],
   "source": [
    "# 4. 데이터 스케일링 (표준화)\n",
    "scaler = StandardScaler()\n",
    "X_train_scaled = scaler.fit_transform(X_train)\n",
    "X_test_scaled = scaler.transform(X_test)"
   ]
  },
  {
   "cell_type": "code",
   "execution_count": 6,
   "id": "016d0a2c",
   "metadata": {},
   "outputs": [
    {
     "data": {
      "text/plain": [
       "KNeighborsClassifier()"
      ]
     },
     "execution_count": 6,
     "metadata": {},
     "output_type": "execute_result"
    }
   ],
   "source": [
    "# 5. KNN 분류 모델 생성 및 학습\n",
    "knn = KNeighborsClassifier(n_neighbors=5)  # K 값을 5로 설정\n",
    "knn.fit(X_train_scaled, y_train)"
   ]
  },
  {
   "cell_type": "code",
   "execution_count": 7,
   "id": "da4dbddf",
   "metadata": {},
   "outputs": [],
   "source": [
    "# 6. 테스트 데이터에 대한 예측\n",
    "y_pred = knn.predict(X_test_scaled)"
   ]
  },
  {
   "cell_type": "code",
   "execution_count": 8,
   "id": "f526b805",
   "metadata": {},
   "outputs": [
    {
     "name": "stdout",
     "output_type": "stream",
     "text": [
      "\n",
      "혼동 행렬(Confusion Matrix):\n",
      "[[6 2]\n",
      " [0 5]]\n"
     ]
    }
   ],
   "source": [
    "# 7. 모델 성능 평가\n",
    "# 혼동 행렬 출력\n",
    "# 참고: https://scikit-learn.org/stable/modules/generated/sklearn.metrics.confusion_matrix.html\n",
    "conf_matrix = confusion_matrix(y_test, y_pred)\n",
    "print(\"\\n혼동 행렬(Confusion Matrix):\")\n",
    "print(conf_matrix)\n",
    "# 혼동 행렬(Confusion Matrix):\n",
    "# - TP (True Positive): 실제로 True인 데이터 중에서 모델이 True라고 예측한 것\n",
    "# - TN (True Negative): 실제로 False인 데이터 중에서 모델이 False라고 예측한 것\n",
    "# - FP (False Positive): 실제로 False인 데이터 중에서 모델이 True라고 잘못 예측한 것 (False Positive)\n",
    "# - FN (False Negative): 실제로 True인 데이터 중에서 모델이 False라고 잘못 예측한 것 (False Negative)\n",
    "# - 행: 실제 값 (True Labels)\n",
    "# - 열: 예측 값 (Predicted Labels)\n",
    "# [[0, 1] 위치는 실제로 비혼잡(0)인데 혼잡(1)으로 잘못 예측된 경우를 의미\n",
    "#  [1, 0]] 위치는 실제로 혼잡(1)인데 비혼잡(0)으로 잘못 예측된 경우를 의미"
   ]
  },
  {
   "cell_type": "code",
   "execution_count": 9,
   "id": "1967d04c",
   "metadata": {},
   "outputs": [
    {
     "name": "stdout",
     "output_type": "stream",
     "text": [
      "\n",
      "분류 성능 평가(Classification Report):\n",
      "              precision    recall  f1-score   support\n",
      "\n",
      "       False       1.00      0.75      0.86         8\n",
      "        True       0.71      1.00      0.83         5\n",
      "\n",
      "    accuracy                           0.85        13\n",
      "   macro avg       0.86      0.88      0.85        13\n",
      "weighted avg       0.89      0.85      0.85        13\n",
      "\n"
     ]
    }
   ],
   "source": [
    "# 분류 성능 평가 지표 출력 (정확도, 정밀도, 재현율, F1 점수 등)\n",
    "# 참고: https://scikit-learn.org/stable/modules/generated/sklearn.metrics.classification_report.html\n",
    "prediction_report = classification_report(y_test, y_pred)\n",
    "print(\"\\n분류 성능 평가(Classification Report):\")\n",
    "print(prediction_report)\n",
    "# 분류 성능 평가(Classification Report):\n",
    "# - Precision (정밀도): 모델이 True라고 예측한 것 중 실제로 True인 데이터의 비율 (TP / (TP + FP))\n",
    "#   => False Positive를 줄이는 데 중점을 둔 지표\n",
    "# - Recall (재현율): 실제로 True인 것 중에서 모델이 True라고 올바르게 예측한 비율 (TP / (TP + FN))\n",
    "#   => False Negative를 줄이는 데 중점을 둔 지표\n",
    "# - F1 Score: 정밀도와 재현율의 조화 평균 (2 * (Precision * Recall) / (Precision + Recall))\n",
    "#   => Precision과 Recall 간의 균형을 중요시할 때 사용\n",
    "# - Support: 각 클래스에 속하는 실제 데이터의 수"
   ]
  },
  {
   "cell_type": "code",
   "execution_count": 10,
   "id": "42e94d14",
   "metadata": {},
   "outputs": [
    {
     "name": "stdout",
     "output_type": "stream",
     "text": [
      "\n",
      "모델의 정확도(Accuracy): 0.85\n"
     ]
    }
   ],
   "source": [
    "# 8. 정확도 출력\n",
    "# 참고: https://scikit-learn.org/stable/modules/generated/sklearn.metrics.accuracy_score.html\n",
    "accuracy = accuracy_score(y_test, y_pred)\n",
    "print(f\"\\n모델의 정확도(Accuracy): {accuracy:.2f}\")\n",
    "# 정확도(Accuracy):\n",
    "# - 전체 데이터 중에서 모델이 올바르게 예측한 비율 ((TP + TN) / (전체 데이터 수))\n",
    "#   => 정확도는 모델이 전반적으로 얼마나 잘 예측했는지를 나타내는 지표"
   ]
  },
  {
   "cell_type": "code",
   "execution_count": null,
   "id": "b731780a",
   "metadata": {},
   "outputs": [],
   "source": []
  }
 ],
 "metadata": {
  "kernelspec": {
   "display_name": "base",
   "language": "python",
   "name": "python3"
  },
  "language_info": {
   "codemirror_mode": {
    "name": "ipython",
    "version": 3
   },
   "file_extension": ".py",
   "mimetype": "text/x-python",
   "name": "python",
   "nbconvert_exporter": "python",
   "pygments_lexer": "ipython3",
   "version": "3.7.9"
  }
 },
 "nbformat": 4,
 "nbformat_minor": 5
}
