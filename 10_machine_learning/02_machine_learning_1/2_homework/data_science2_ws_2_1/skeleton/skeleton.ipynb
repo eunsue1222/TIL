{
 "cells": [
  {
   "cell_type": "code",
   "execution_count": 1,
   "metadata": {},
   "outputs": [],
   "source": [
    "import numpy as np\n",
    "import pandas as pd\n",
    "from sklearn.linear_model import LinearRegression  \n",
    "from sklearn.model_selection import train_test_split"
   ]
  },
  {
   "cell_type": "code",
   "execution_count": 2,
   "metadata": {},
   "outputs": [
    {
     "name": "stdout",
     "output_type": "stream",
     "text": [
      "<class 'pandas.core.frame.DataFrame'>\n",
      "RangeIndex: 42 entries, 0 to 41\n",
      "Data columns (total 33 columns):\n",
      " #   Column  Non-Null Count  Dtype  \n",
      "---  ------  --------------  -----  \n",
      " 0   일자      42 non-null     int64  \n",
      " 1   요일      42 non-null     object \n",
      " 2   지점명     42 non-null     object \n",
      " 3   지점번호    42 non-null     object \n",
      " 4   방향      42 non-null     object \n",
      " 5   구분      42 non-null     object \n",
      " 6   0시      42 non-null     float64\n",
      " 7   1시      42 non-null     float64\n",
      " 8   2시      42 non-null     float64\n",
      " 9   3시      42 non-null     float64\n",
      " 10  4시      42 non-null     float64\n",
      " 11  5시      42 non-null     float64\n",
      " 12  6시      42 non-null     float64\n",
      " 13  7시      42 non-null     float64\n",
      " 14  8시      42 non-null     float64\n",
      " 15  9시      42 non-null     float64\n",
      " 16  10시     42 non-null     float64\n",
      " 17  11시     42 non-null     float64\n",
      " 18  12시     42 non-null     float64\n",
      " 19  13시     42 non-null     float64\n",
      " 20  14시     42 non-null     float64\n",
      " 21  15시     42 non-null     float64\n",
      " 22  16시     42 non-null     float64\n",
      " 23  17시     42 non-null     float64\n",
      " 24  18시     42 non-null     float64\n",
      " 25  19시     42 non-null     float64\n",
      " 26  20시     42 non-null     float64\n",
      " 27  21시     42 non-null     float64\n",
      " 28  22시     42 non-null     float64\n",
      " 29  23시     42 non-null     float64\n",
      " 30  혼잡      42 non-null     bool   \n",
      " 31  평균교통량   42 non-null     float64\n",
      " 32  새로운 혼잡  42 non-null     bool   \n",
      "dtypes: bool(2), float64(25), int64(1), object(5)\n",
      "memory usage: 10.4+ KB\n"
     ]
    }
   ],
   "source": [
    "# 1. 교통량 데이터 로드\n",
    "weekdays_data = pd.read_excel('../data/weekday_traffic.xlsx')\n",
    "weekdays_data.info()"
   ]
  },
  {
   "cell_type": "code",
   "execution_count": 3,
   "metadata": {},
   "outputs": [
    {
     "data": {
      "text/plain": [
       "array([[ 0],\n",
       "       [ 1],\n",
       "       [ 2],\n",
       "       [ 3],\n",
       "       [ 4],\n",
       "       [ 5],\n",
       "       [ 6],\n",
       "       [ 7],\n",
       "       [ 8],\n",
       "       [ 9],\n",
       "       [10],\n",
       "       [11],\n",
       "       [12],\n",
       "       [13],\n",
       "       [14],\n",
       "       [15],\n",
       "       [16],\n",
       "       [17],\n",
       "       [18],\n",
       "       [19],\n",
       "       [20],\n",
       "       [21],\n",
       "       [22],\n",
       "       [23],\n",
       "       [24],\n",
       "       [25],\n",
       "       [26],\n",
       "       [27],\n",
       "       [28],\n",
       "       [29],\n",
       "       [30],\n",
       "       [31],\n",
       "       [32],\n",
       "       [33],\n",
       "       [34],\n",
       "       [35],\n",
       "       [36],\n",
       "       [37],\n",
       "       [38],\n",
       "       [39],\n",
       "       [40],\n",
       "       [41]])"
      ]
     },
     "execution_count": 3,
     "metadata": {},
     "output_type": "execute_result"
    }
   ],
   "source": [
    "# 2. 독립 변수: 각 날의 8시만 사용 (날짜별로 동일한 시간)\n",
    "# np.arange()는 연속된 수의 배열을 생성하며, reshape()은 차원을 변환 (참고: https://numpy.org/doc/stable/reference/generated/numpy.arange.html)\n",
    "days = np.arange(len(weekdays_data)).reshape(-1, 1)  # 각 날을 나타내는 인덱스를 독립 변수로 사용\n",
    "days"
   ]
  },
  {
   "cell_type": "code",
   "execution_count": 4,
   "metadata": {},
   "outputs": [
    {
     "data": {
      "text/plain": [
       "array([3590.40324227, 3622.9342971 , 3740.27515773, 4044.15239877,\n",
       "       3804.50583432, 4250.79971624, 3882.4602711 , 4363.70564406,\n",
       "       3932.87124153, 4194.83771876, 3482.38867667, 4365.63262009,\n",
       "       3927.4535222 , 3817.71195959, 3973.01761935, 4179.15387775,\n",
       "       4226.19967809, 4026.32094178, 4134.70643255, 4617.91287653,\n",
       "       4386.92529619, 3031.69288419, 3077.27789889, 3548.90481946,\n",
       "       3390.83060327, 3521.23999853, 3641.1586441 , 3237.14331822,\n",
       "       3138.08500627, 3663.16074967, 3286.92335169, 3388.11655951,\n",
       "       3347.20516217, 3534.46098968, 3728.08581445, 3870.00962126,\n",
       "       3533.13875879, 4158.76612034, 3627.10454473, 3891.29446109,\n",
       "       3427.92716781])"
      ]
     },
     "execution_count": 4,
     "metadata": {},
     "output_type": "execute_result"
    }
   ],
   "source": [
    "traffic_at_8am = weekdays_data.loc[:, '8시'].values[:-1]   # 열 이름이 '8시'인 교통량 데이터를 종속 변수로 사용\n",
    "traffic_at_8am"
   ]
  },
  {
   "cell_type": "code",
   "execution_count": 5,
   "metadata": {},
   "outputs": [],
   "source": [
    "# 4. 데이터 분리 (훈련 데이터 80%, 테스트 데이터 20%)\n",
    "# train_test_split은 데이터를 훈련과 테스트 데이터로 분리하는 함수 (참고: https://scikit-learn.org/stable/modules/generated/sklearn.model_selection.train_test_split.html)\n",
    "# randomstate=42로 고정\n",
    "X_train, X_test, y_train, y_test = train_test_split(days[:-1], traffic_at_8am, test_size=0.2, random_state=42)"
   ]
  },
  {
   "cell_type": "code",
   "execution_count": 6,
   "metadata": {},
   "outputs": [
    {
     "data": {
      "text/plain": [
       "LinearRegression()"
      ]
     },
     "execution_count": 6,
     "metadata": {},
     "output_type": "execute_result"
    }
   ],
   "source": [
    "# 5. 선형 회귀 모델 생성 및 학습 (훈련 데이터로 학습)\n",
    "# LinearRegression 객체를 생성하여 fit() 함수로 학습 (참고: https://scikit-learn.org/stable/modules/generated/sklearn.linear_model.LinearRegression.html)\n",
    "model = LinearRegression()\n",
    "model.fit(X_train, y_train)"
   ]
  },
  {
   "cell_type": "code",
   "execution_count": 7,
   "metadata": {},
   "outputs": [
    {
     "name": "stdout",
     "output_type": "stream",
     "text": [
      "[3535.09752917 3521.97129966 3508.84507015 3495.71884065 3482.59261114]\n"
     ]
    }
   ],
   "source": [
    "# 마지막 5일의 인덱스 (예: 데이터가 31일이면, 인덱스 26~30)\n",
    "indices = np.arange(len(weekdays_data)-5, len(weekdays_data)).reshape(-1, 1)\n",
    "predicted_traffic = model.predict(indices)\n",
    "print(predicted_traffic)"
   ]
  },
  {
   "cell_type": "code",
   "execution_count": 8,
   "metadata": {},
   "outputs": [
    {
     "data": {
      "text/plain": [
       "array([3482.59261114])"
      ]
     },
     "execution_count": 8,
     "metadata": {},
     "output_type": "execute_result"
    }
   ],
   "source": [
    "# 6. 마지막 날의 8시 교통량 예측\n",
    "# 모델의 predict() 함수를 사용하여 예측값을 도출 (참고: https://scikit-learn.org/stable/modules/generated/sklearn.linear_model.LinearRegression.html#sklearn.linear_model.LinearRegression.predict)\n",
    "predicted_traffic = model.predict(np.array([[len(weekdays_data)-1]]))  # 마지막 날의 인덱스\n",
    "predicted_traffic"
   ]
  },
  {
   "cell_type": "code",
   "execution_count": 9,
   "metadata": {},
   "outputs": [],
   "source": [
    "# 7. 마지막 날의 8시 실제 교통량 가져오기\n",
    "# loc[]을 사용하여 마지막 날의 데이터를 가져옴 (참고: https://pandas.pydata.org/pandas-docs/stable/reference/api/pandas.DataFrame.loc.html)\n",
    "last_day_traffic = weekdays_data.loc[weekdays_data.index[-1], '8시']"
   ]
  },
  {
   "cell_type": "code",
   "execution_count": 10,
   "metadata": {},
   "outputs": [
    {
     "name": "stdout",
     "output_type": "stream",
     "text": [
      "실제 Traffic: 3211.69, 예측한 Traffic: 3482.59\n"
     ]
    }
   ],
   "source": [
    "# 8. 예측된 값과 실제 값을 출력\n",
    "print(f\"실제 Traffic: {last_day_traffic:.2f}, 예측한 Traffic: {predicted_traffic[0]:.2f}\")"
   ]
  },
  {
   "cell_type": "code",
   "execution_count": null,
   "metadata": {},
   "outputs": [],
   "source": []
  }
 ],
 "metadata": {
  "kernelspec": {
   "display_name": "base",
   "language": "python",
   "name": "python3"
  },
  "language_info": {
   "codemirror_mode": {
    "name": "ipython",
    "version": 3
   },
   "file_extension": ".py",
   "mimetype": "text/x-python",
   "name": "python",
   "nbconvert_exporter": "python",
   "pygments_lexer": "ipython3",
   "version": "3.7.9"
  }
 },
 "nbformat": 4,
 "nbformat_minor": 2
}
