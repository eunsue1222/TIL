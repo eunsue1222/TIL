{
 "cells": [
  {
   "cell_type": "code",
   "execution_count": 1,
   "id": "2aaea775",
   "metadata": {},
   "outputs": [],
   "source": [
    "import pandas as pd\n",
    "import matplotlib.pyplot as plt"
   ]
  },
  {
   "cell_type": "code",
   "execution_count": 2,
   "id": "c9393ee9",
   "metadata": {},
   "outputs": [],
   "source": [
    "# 1. 데이터 불러오기 및 확인\n",
    "file_path = \"../data/time_series_data.csv\"\n",
    "df = pd.read_csv(file_path)"
   ]
  },
  {
   "cell_type": "code",
   "execution_count": 3,
   "id": "d3bb00a3",
   "metadata": {},
   "outputs": [
    {
     "name": "stdout",
     "output_type": "stream",
     "text": [
      "<class 'pandas.core.frame.DataFrame'>\n",
      "RangeIndex: 21 entries, 0 to 20\n",
      "Data columns (total 2 columns):\n",
      " #   Column  Non-Null Count  Dtype  \n",
      "---  ------  --------------  -----  \n",
      " 0   Year    21 non-null     int64  \n",
      " 1   Value   21 non-null     float64\n",
      "dtypes: float64(1), int64(1)\n",
      "memory usage: 464.0 bytes\n"
     ]
    }
   ],
   "source": [
    "# 2. 데이터 확인\n",
    "df.info()  # 데이터 타입 및 결측치 확인"
   ]
  },
  {
   "cell_type": "code",
   "execution_count": 4,
   "id": "fcf9c890",
   "metadata": {},
   "outputs": [
    {
     "data": {
      "text/html": [
       "<div>\n",
       "<style scoped>\n",
       "    .dataframe tbody tr th:only-of-type {\n",
       "        vertical-align: middle;\n",
       "    }\n",
       "\n",
       "    .dataframe tbody tr th {\n",
       "        vertical-align: top;\n",
       "    }\n",
       "\n",
       "    .dataframe thead th {\n",
       "        text-align: right;\n",
       "    }\n",
       "</style>\n",
       "<table border=\"1\" class=\"dataframe\">\n",
       "  <thead>\n",
       "    <tr style=\"text-align: right;\">\n",
       "      <th></th>\n",
       "      <th>Year</th>\n",
       "      <th>Value</th>\n",
       "    </tr>\n",
       "  </thead>\n",
       "  <tbody>\n",
       "    <tr>\n",
       "      <th>0</th>\n",
       "      <td>2000</td>\n",
       "      <td>51.561810</td>\n",
       "    </tr>\n",
       "    <tr>\n",
       "      <th>1</th>\n",
       "      <td>2001</td>\n",
       "      <td>54.063663</td>\n",
       "    </tr>\n",
       "    <tr>\n",
       "      <th>2</th>\n",
       "      <td>2002</td>\n",
       "      <td>56.332164</td>\n",
       "    </tr>\n",
       "    <tr>\n",
       "      <th>3</th>\n",
       "      <td>2003</td>\n",
       "      <td>58.470520</td>\n",
       "    </tr>\n",
       "    <tr>\n",
       "      <th>4</th>\n",
       "      <td>2004</td>\n",
       "      <td>59.913605</td>\n",
       "    </tr>\n",
       "  </tbody>\n",
       "</table>\n",
       "</div>"
      ],
      "text/plain": [
       "   Year      Value\n",
       "0  2000  51.561810\n",
       "1  2001  54.063663\n",
       "2  2002  56.332164\n",
       "3  2003  58.470520\n",
       "4  2004  59.913605"
      ]
     },
     "execution_count": 4,
     "metadata": {},
     "output_type": "execute_result"
    }
   ],
   "source": [
    "df.head()  # 상위 5개 행"
   ]
  },
  {
   "cell_type": "code",
   "execution_count": 5,
   "id": "6354ab9b",
   "metadata": {},
   "outputs": [
    {
     "data": {
      "text/html": [
       "<div>\n",
       "<style scoped>\n",
       "    .dataframe tbody tr th:only-of-type {\n",
       "        vertical-align: middle;\n",
       "    }\n",
       "\n",
       "    .dataframe tbody tr th {\n",
       "        vertical-align: top;\n",
       "    }\n",
       "\n",
       "    .dataframe thead th {\n",
       "        text-align: right;\n",
       "    }\n",
       "</style>\n",
       "<table border=\"1\" class=\"dataframe\">\n",
       "  <thead>\n",
       "    <tr style=\"text-align: right;\">\n",
       "      <th></th>\n",
       "      <th>Country</th>\n",
       "      <th>Year</th>\n",
       "      <th>GDP</th>\n",
       "      <th>Population</th>\n",
       "    </tr>\n",
       "  </thead>\n",
       "  <tbody>\n",
       "    <tr>\n",
       "      <th>0</th>\n",
       "      <td>USA</td>\n",
       "      <td>2000</td>\n",
       "      <td>10252345464000</td>\n",
       "      <td>282162411</td>\n",
       "    </tr>\n",
       "    <tr>\n",
       "      <th>1</th>\n",
       "      <td>USA</td>\n",
       "      <td>2001</td>\n",
       "      <td>10581821399000</td>\n",
       "      <td>284968955</td>\n",
       "    </tr>\n",
       "    <tr>\n",
       "      <th>2</th>\n",
       "      <td>USA</td>\n",
       "      <td>2002</td>\n",
       "      <td>10936419054000</td>\n",
       "      <td>287625193</td>\n",
       "    </tr>\n",
       "    <tr>\n",
       "      <th>3</th>\n",
       "      <td>USA</td>\n",
       "      <td>2003</td>\n",
       "      <td>11458243831000</td>\n",
       "      <td>290107933</td>\n",
       "    </tr>\n",
       "    <tr>\n",
       "      <th>4</th>\n",
       "      <td>USA</td>\n",
       "      <td>2004</td>\n",
       "      <td>12213729147000</td>\n",
       "      <td>292805298</td>\n",
       "    </tr>\n",
       "    <tr>\n",
       "      <th>...</th>\n",
       "      <td>...</td>\n",
       "      <td>...</td>\n",
       "      <td>...</td>\n",
       "      <td>...</td>\n",
       "    </tr>\n",
       "    <tr>\n",
       "      <th>205</th>\n",
       "      <td>Australia</td>\n",
       "      <td>2016</td>\n",
       "      <td>1320000000000</td>\n",
       "      <td>24309310</td>\n",
       "    </tr>\n",
       "    <tr>\n",
       "      <th>206</th>\n",
       "      <td>Australia</td>\n",
       "      <td>2017</td>\n",
       "      <td>1380000000000</td>\n",
       "      <td>24641660</td>\n",
       "    </tr>\n",
       "    <tr>\n",
       "      <th>207</th>\n",
       "      <td>Australia</td>\n",
       "      <td>2018</td>\n",
       "      <td>1440000000000</td>\n",
       "      <td>24992300</td>\n",
       "    </tr>\n",
       "    <tr>\n",
       "      <th>208</th>\n",
       "      <td>Australia</td>\n",
       "      <td>2019</td>\n",
       "      <td>1390000000000</td>\n",
       "      <td>25365745</td>\n",
       "    </tr>\n",
       "    <tr>\n",
       "      <th>209</th>\n",
       "      <td>Australia</td>\n",
       "      <td>2020</td>\n",
       "      <td>1330000000000</td>\n",
       "      <td>25687041</td>\n",
       "    </tr>\n",
       "  </tbody>\n",
       "</table>\n",
       "<p>210 rows × 4 columns</p>\n",
       "</div>"
      ],
      "text/plain": [
       "       Country  Year             GDP  Population\n",
       "0          USA  2000  10252345464000   282162411\n",
       "1          USA  2001  10581821399000   284968955\n",
       "2          USA  2002  10936419054000   287625193\n",
       "3          USA  2003  11458243831000   290107933\n",
       "4          USA  2004  12213729147000   292805298\n",
       "..         ...   ...             ...         ...\n",
       "205  Australia  2016   1320000000000    24309310\n",
       "206  Australia  2017   1380000000000    24641660\n",
       "207  Australia  2018   1440000000000    24992300\n",
       "208  Australia  2019   1390000000000    25365745\n",
       "209  Australia  2020   1330000000000    25687041\n",
       "\n",
       "[210 rows x 4 columns]"
      ]
     },
     "execution_count": 5,
     "metadata": {},
     "output_type": "execute_result"
    }
   ],
   "source": [
    "# 데이터 불러오기\n",
    "gdp_file = \"../data/gdp_data.csv\"\n",
    "pop_file = \"../data/population_data.csv\"\n",
    "\n",
    "gdp_df = pd.read_csv(gdp_file)  # GDP 데이터 로드\n",
    "population_df = pd.read_csv(pop_file)  # 인구 데이터 로드\n",
    "\n",
    "# 2. 데이터 병합 (국가와 연도를 기준으로 GDP와 인구 데이터를 하나로 합침)\n",
    "# 병합을 통해 동일한 국가 및 연도 데이터를 연결\n",
    "merged_df = pd.merge(gdp_df, population_df, on=[\"Country\", \"Year\"])\n",
    "merged_df"
   ]
  },
  {
   "cell_type": "code",
   "execution_count": 6,
   "id": "0569720f",
   "metadata": {},
   "outputs": [],
   "source": [
    "# 3. 이동 평균(Moving Average) 계산\n",
    "window_size = 3  # 이동 평균 윈도우 크기 (3년 기준)\n",
    "df[\"Moving_Avg\"] = df[\"Value\"].rolling(window=window_size).mean()  # 이동 평균 추가"
   ]
  },
  {
   "cell_type": "code",
   "execution_count": 7,
   "id": "f16d0e4a",
   "metadata": {},
   "outputs": [],
   "source": [
    "# 3. 1인당 GDP(GDP per Capita) 계산\n",
    "# 1인당 GDP = 총 GDP / 총 인구\n",
    "merged_df[\"GDP_per_Capita\"] = merged_df[\"GDP\"] / merged_df[\"Population\"]"
   ]
  },
  {
   "cell_type": "code",
   "execution_count": 8,
   "id": "4b51169c",
   "metadata": {},
   "outputs": [],
   "source": [
    "# 4. 변동률(Cumulative Growth Rate, CAGR) 계산\n",
    "df[\"Pct_Change\"] = df[\"Value\"].pct_change() * 100  # 연도별 변동률(%) 계산"
   ]
  },
  {
   "cell_type": "code",
   "execution_count": 9,
   "id": "7e87a219",
   "metadata": {},
   "outputs": [
    {
     "data": {
      "text/plain": [
       "<Figure size 864x432 with 0 Axes>"
      ]
     },
     "execution_count": 9,
     "metadata": {},
     "output_type": "execute_result"
    },
    {
     "data": {
      "text/plain": [
       "<Figure size 864x432 with 0 Axes>"
      ]
     },
     "metadata": {},
     "output_type": "display_data"
    }
   ],
   "source": [
    "# 5. 시각화: 원본 데이터와 이동 평균선 표시\n",
    "plt.figure(figsize=(12, 6))"
   ]
  },
  {
   "cell_type": "code",
   "execution_count": 10,
   "id": "65383258",
   "metadata": {},
   "outputs": [
    {
     "data": {
      "text/plain": [
       "[<matplotlib.lines.Line2D at 0x1f340234fc8>]"
      ]
     },
     "execution_count": 10,
     "metadata": {},
     "output_type": "execute_result"
    },
    {
     "data": {
      "image/png": "[encoded data removed]",
      "text/plain": [
       "<Figure size 432x288 with 1 Axes>"
      ]
     },
     "metadata": {
      "needs_background": "light"
     },
     "output_type": "display_data"
    }
   ],
   "source": [
    "# 5.1 원본 데이터 시각화 (파란색 선)\n",
    "plt.plot(df[\"Year\"], df[\"Value\"], marker='o', linestyle='-', color='b', label=\"Original Value\")"
   ]
  },
  {
   "cell_type": "code",
   "execution_count": 11,
   "id": "218d9373",
   "metadata": {},
   "outputs": [
    {
     "data": {
      "text/plain": [
       "[<matplotlib.lines.Line2D at 0x1f34032a608>]"
      ]
     },
     "execution_count": 11,
     "metadata": {},
     "output_type": "execute_result"
    },
    {
     "data": {
      "image/png": "[encoded data removed]",
      "text/plain": [
       "<Figure size 432x288 with 1 Axes>"
      ]
     },
     "metadata": {
      "needs_background": "light"
     },
     "output_type": "display_data"
    }
   ],
   "source": [
    "# 5.2 이동 평균선 시각화 (주황색 선)\n",
    "plt.plot(df[\"Year\"], df[\"Moving_Avg\"], marker='s', linestyle='--', color='orange', label=f\"{window_size}-Year Moving Avg\")"
   ]
  },
  {
   "cell_type": "code",
   "execution_count": 12,
   "id": "0fd31b0f",
   "metadata": {},
   "outputs": [
    {
     "name": "stderr",
     "output_type": "stream",
     "text": [
      "No handles with labels found to put in legend.\n"
     ]
    },
    {
     "data": {
      "text/plain": [
       "<matplotlib.legend.Legend at 0x1f34037e948>"
      ]
     },
     "execution_count": 12,
     "metadata": {},
     "output_type": "execute_result"
    },
    {
     "data": {
      "image/png": "[encoded data removed]",
      "text/plain": [
       "<Figure size 432x288 with 1 Axes>"
      ]
     },
     "metadata": {
      "needs_background": "light"
     },
     "output_type": "display_data"
    }
   ],
   "source": [
    "# 6. 그래프 스타일 설정\n",
    "plt.xlabel(\"Year\", fontsize=12)  # x축 레이블 설정\n",
    "plt.ylabel(\"Value\", fontsize=12)  # y축 레이블 설정\n",
    "plt.title(\"Time Series Data Trend with Moving Average\", fontsize=14)  # 그래프 제목 설정\n",
    "plt.grid(True, linestyle=\"--\", alpha=0.6)  # 격자 스타일 설정\n",
    "plt.legend()  # 범례 표시"
   ]
  },
  {
   "cell_type": "code",
   "execution_count": 13,
   "id": "d69ae559",
   "metadata": {},
   "outputs": [
    {
     "data": {
      "text/plain": [
       "<matplotlib.legend.Legend at 0x1f340446d48>"
      ]
     },
     "execution_count": 13,
     "metadata": {},
     "output_type": "execute_result"
    },
    {
     "data": {
      "image/png": "[encoded data removed]",
      "text/plain": [
       "<Figure size 432x288 with 2 Axes>"
      ]
     },
     "metadata": {
      "needs_background": "light"
     },
     "output_type": "display_data"
    }
   ],
   "source": [
    "# 7. 변동률(%) 바 그래프 추가 (보조 축 사용)\n",
    "ax2 = plt.gca().twinx()  # 새로운 y축 추가\n",
    "ax2.bar(df[\"Year\"], df[\"Pct_Change\"], alpha=0.3, color=\"gray\", label=\"Annual % Change\")  # 변동률 막대 그래프\n",
    "ax2.set_ylabel(\"Percentage Change (%)\", fontsize=12)  # 보조 y축 레이블 설정\n",
    "ax2.legend(loc=\"upper left\")  # 범례 위치 설정"
   ]
  },
  {
   "cell_type": "code",
   "execution_count": 14,
   "id": "51ec4cbd",
   "metadata": {},
   "outputs": [],
   "source": [
    "# 8. 그래프 출력\n",
    "plt.show()"
   ]
  },
  {
   "cell_type": "code",
   "execution_count": null,
   "id": "089d183f",
   "metadata": {},
   "outputs": [],
   "source": []
  }
 ],
 "metadata": {
  "kernelspec": {
   "display_name": "base",
   "language": "python",
   "name": "python3"
  },
  "language_info": {
   "codemirror_mode": {
    "name": "ipython",
    "version": 3
   },
   "file_extension": ".py",
   "mimetype": "text/x-python",
   "name": "python",
   "nbconvert_exporter": "python",
   "pygments_lexer": "ipython3",
   "version": "3.7.9"
  }
 },
 "nbformat": 4,
 "nbformat_minor": 5
}
