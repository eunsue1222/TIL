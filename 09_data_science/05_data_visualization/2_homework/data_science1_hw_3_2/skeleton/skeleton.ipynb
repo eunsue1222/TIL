{
 "cells": [
  {
   "cell_type": "code",
   "execution_count": 1,
   "id": "d19d16a0",
   "metadata": {},
   "outputs": [],
   "source": [
    "import pandas as pd\n",
    "import matplotlib.pyplot as plt\n",
    "import seaborn as sns\n",
    "\n",
    "plt.rcParams['font.family'] = 'Malgun Gothic'"
   ]
  },
  {
   "cell_type": "code",
   "execution_count": 2,
   "id": "7c1b2fb7",
   "metadata": {},
   "outputs": [
    {
     "data": {
      "text/html": [
       "<div>\n",
       "<style scoped>\n",
       "    .dataframe tbody tr th:only-of-type {\n",
       "        vertical-align: middle;\n",
       "    }\n",
       "\n",
       "    .dataframe tbody tr th {\n",
       "        vertical-align: top;\n",
       "    }\n",
       "\n",
       "    .dataframe thead th {\n",
       "        text-align: right;\n",
       "    }\n",
       "</style>\n",
       "<table border=\"1\" class=\"dataframe\">\n",
       "  <thead>\n",
       "    <tr style=\"text-align: right;\">\n",
       "      <th></th>\n",
       "      <th>Category</th>\n",
       "      <th>Value</th>\n",
       "      <th>Subcategory</th>\n",
       "    </tr>\n",
       "  </thead>\n",
       "  <tbody>\n",
       "    <tr>\n",
       "      <th>0</th>\n",
       "      <td>C</td>\n",
       "      <td>63</td>\n",
       "      <td>X</td>\n",
       "    </tr>\n",
       "    <tr>\n",
       "      <th>1</th>\n",
       "      <td>D</td>\n",
       "      <td>18</td>\n",
       "      <td>X</td>\n",
       "    </tr>\n",
       "    <tr>\n",
       "      <th>2</th>\n",
       "      <td>A</td>\n",
       "      <td>90</td>\n",
       "      <td>Y</td>\n",
       "    </tr>\n",
       "    <tr>\n",
       "      <th>3</th>\n",
       "      <td>C</td>\n",
       "      <td>44</td>\n",
       "      <td>Y</td>\n",
       "    </tr>\n",
       "    <tr>\n",
       "      <th>4</th>\n",
       "      <td>C</td>\n",
       "      <td>34</td>\n",
       "      <td>Y</td>\n",
       "    </tr>\n",
       "    <tr>\n",
       "      <th>...</th>\n",
       "      <td>...</td>\n",
       "      <td>...</td>\n",
       "      <td>...</td>\n",
       "    </tr>\n",
       "    <tr>\n",
       "      <th>95</th>\n",
       "      <td>B</td>\n",
       "      <td>28</td>\n",
       "      <td>Z</td>\n",
       "    </tr>\n",
       "    <tr>\n",
       "      <th>96</th>\n",
       "      <td>B</td>\n",
       "      <td>66</td>\n",
       "      <td>Z</td>\n",
       "    </tr>\n",
       "    <tr>\n",
       "      <th>97</th>\n",
       "      <td>D</td>\n",
       "      <td>42</td>\n",
       "      <td>Y</td>\n",
       "    </tr>\n",
       "    <tr>\n",
       "      <th>98</th>\n",
       "      <td>B</td>\n",
       "      <td>45</td>\n",
       "      <td>Y</td>\n",
       "    </tr>\n",
       "    <tr>\n",
       "      <th>99</th>\n",
       "      <td>A</td>\n",
       "      <td>62</td>\n",
       "      <td>Z</td>\n",
       "    </tr>\n",
       "  </tbody>\n",
       "</table>\n",
       "<p>100 rows × 3 columns</p>\n",
       "</div>"
      ],
      "text/plain": [
       "   Category  Value Subcategory\n",
       "0         C     63           X\n",
       "1         D     18           X\n",
       "2         A     90           Y\n",
       "3         C     44           Y\n",
       "4         C     34           Y\n",
       "..      ...    ...         ...\n",
       "95        B     28           Z\n",
       "96        B     66           Z\n",
       "97        D     42           Y\n",
       "98        B     45           Y\n",
       "99        A     62           Z\n",
       "\n",
       "[100 rows x 3 columns]"
      ]
     },
     "execution_count": 2,
     "metadata": {},
     "output_type": "execute_result"
    }
   ],
   "source": [
    "# 데이터 불러오기\n",
    "file_path = \"../data/category_data.csv\"\n",
    "df = pd.read_csv(file_path)\n",
    "df"
   ]
  },
  {
   "cell_type": "code",
   "execution_count": 3,
   "id": "1c75d288",
   "metadata": {},
   "outputs": [
    {
     "name": "stdout",
     "output_type": "stream",
     "text": [
      "  Category  Value Subcategory\n",
      "0        C     63           X\n",
      "1        D     18           X\n",
      "2        A     90           Y\n",
      "3        C     44           Y\n",
      "4        C     34           Y\n",
      "<class 'pandas.core.frame.DataFrame'>\n",
      "RangeIndex: 100 entries, 0 to 99\n",
      "Data columns (total 3 columns):\n",
      " #   Column       Non-Null Count  Dtype \n",
      "---  ------       --------------  ----- \n",
      " 0   Category     100 non-null    object\n",
      " 1   Value        100 non-null    int64 \n",
      " 2   Subcategory  100 non-null    object\n",
      "dtypes: int64(1), object(2)\n",
      "memory usage: 2.5+ KB\n",
      "None\n",
      "           Value\n",
      "count  100.00000\n",
      "mean    49.75000\n",
      "std     29.45271\n",
      "min      1.00000\n",
      "25%     26.75000\n",
      "50%     46.00000\n",
      "75%     77.25000\n",
      "max     99.00000\n"
     ]
    }
   ],
   "source": [
    "# 데이터 확인\n",
    "print(df.head())  # 상위 5개 행 출력\n",
    "print(df.info())  # 데이터 타입 및 결측치 확인\n",
    "print(df.describe())  # 기초 통계 확인"
   ]
  },
  {
   "cell_type": "markdown",
   "id": "7d8505ef",
   "metadata": {},
   "source": [
    "https://seaborn.pydata.org/tutorial/color_palettes.html"
   ]
  },
  {
   "cell_type": "code",
   "execution_count": 4,
   "id": "2e12cf2d",
   "metadata": {},
   "outputs": [
    {
     "name": "stderr",
     "output_type": "stream",
     "text": [
      "C:\\Users\\SSAFY\\AppData\\Local\\Temp\\ipykernel_25496\\2074983589.py:4: FutureWarning: \n",
      "\n",
      "Passing `palette` without assigning `hue` is deprecated and will be removed in v0.14.0. Assign the `x` variable to `hue` and set `legend=False` for the same effect.\n",
      "\n",
      "  sns.countplot(data=df, x='Category', palette='viridis')  # 카테고리별 개수 시각화\n"
     ]
    },
    {
     "data": {
      "image/png": "[encoded data removed]",
      "text/plain": [
       "<Figure size 1200x600 with 1 Axes>"
      ]
     },
     "metadata": {},
     "output_type": "display_data"
    }
   ],
   "source": [
    "# 1. 카테고리별 데이터 분포 시각화 (Bar Chart)\n",
    "\n",
    "plt.figure(figsize=(12, 6))\n",
    "sns.countplot(data=df, x='Category', palette='viridis')  # 카테고리별 개수 시각화\n",
    "plt.title('카테고리별 데이터 분포')\n",
    "plt.xticks(rotation=45)  # X축 라벨 가독성 개선\n",
    "plt.xlabel('카테고리')\n",
    "plt.ylabel('개수')\n",
    "plt.show()\n",
    "\n",
    "# **해석**\n",
    "# - 데이터가 각 카테고리에 어떻게 분포하는지 한눈에 파악할 수 있음.\n",
    "# - 특정 카테고리에 데이터가 치우쳐 있거나 부족한 경우 데이터 수집 전략을 조정할 필요가 있음."
   ]
  },
  {
   "cell_type": "code",
   "execution_count": 5,
   "id": "e412f0aa",
   "metadata": {},
   "outputs": [
    {
     "name": "stderr",
     "output_type": "stream",
     "text": [
      "C:\\Users\\SSAFY\\AppData\\Local\\Temp\\ipykernel_25496\\1878842046.py:5: FutureWarning: \n",
      "\n",
      "The `ci` parameter is deprecated. Use `errorbar=None` for the same effect.\n",
      "\n",
      "  sns.barplot(data=df, x='Category', y='Value', estimator=\"mean\", palette='coolwarm', ci=None)\n",
      "C:\\Users\\SSAFY\\AppData\\Local\\Temp\\ipykernel_25496\\1878842046.py:5: FutureWarning: \n",
      "\n",
      "Passing `palette` without assigning `hue` is deprecated and will be removed in v0.14.0. Assign the `x` variable to `hue` and set `legend=False` for the same effect.\n",
      "\n",
      "  sns.barplot(data=df, x='Category', y='Value', estimator=\"mean\", palette='coolwarm', ci=None)\n"
     ]
    },
    {
     "data": {
      "image/png": "[encoded data removed]",
      "text/plain": [
       "<Figure size 1200x600 with 1 Axes>"
      ]
     },
     "metadata": {},
     "output_type": "display_data"
    }
   ],
   "source": [
    "# 2. 카테고리별 수치 데이터 평균 비교 (Bar Chart)\n",
    "\n",
    "if 'Value' in df.columns:  # '값' 컬럼이 존재하는 경우\n",
    "    plt.figure(figsize=(12, 6))\n",
    "    sns.barplot(data=df, x='Category', y='Value', estimator=\"mean\", palette='coolwarm', ci=None)\n",
    "    plt.title('카테고리별 값 평균')\n",
    "    plt.xticks(rotation=45)\n",
    "    plt.xlabel('카테고리')\n",
    "    plt.ylabel('평균 값')\n",
    "    plt.show()\n",
    "\n",
    "    # **해석**\n",
    "    # - 각 카테고리에서 총합을 비교하여 상대적인 중요도를 파악 가능.\n",
    "    # - 특정 카테고리의 값이 유난히 크거나 작은 경우 데이터 이상치를 검토해야 함."
   ]
  },
  {
   "cell_type": "code",
   "execution_count": 6,
   "id": "920c8e29",
   "metadata": {},
   "outputs": [
    {
     "name": "stderr",
     "output_type": "stream",
     "text": [
      "C:\\Users\\SSAFY\\AppData\\Local\\Temp\\ipykernel_25496\\598064314.py:5: FutureWarning: \n",
      "\n",
      "The `ci` parameter is deprecated. Use `errorbar=None` for the same effect.\n",
      "\n",
      "  sns.barplot(data=df, x='Category', y='Value', estimator=sum, palette='coolwarm', ci=None)\n",
      "C:\\Users\\SSAFY\\AppData\\Local\\Temp\\ipykernel_25496\\598064314.py:5: FutureWarning: \n",
      "\n",
      "Passing `palette` without assigning `hue` is deprecated and will be removed in v0.14.0. Assign the `x` variable to `hue` and set `legend=False` for the same effect.\n",
      "\n",
      "  sns.barplot(data=df, x='Category', y='Value', estimator=sum, palette='coolwarm', ci=None)\n"
     ]
    },
    {
     "data": {
      "image/png": "[encoded data removed]",
      "text/plain": [
       "<Figure size 1200x600 with 1 Axes>"
      ]
     },
     "metadata": {},
     "output_type": "display_data"
    }
   ],
   "source": [
    "# 2. 카테고리별 수치 데이터 합계 비교 (Bar Chart)\n",
    "\n",
    "if 'Value' in df.columns:  # '값' 컬럼이 존재하는 경우\n",
    "    plt.figure(figsize=(12, 6))\n",
    "    sns.barplot(data=df, x='Category', y='Value', estimator=sum, palette='coolwarm', ci=None)\n",
    "    plt.title('카테고리별 값 합계')\n",
    "    plt.xticks(rotation=45)\n",
    "    plt.xlabel('카테고리')\n",
    "    plt.ylabel('합계 값')\n",
    "    plt.show()\n",
    "\n",
    "    # **해석**\n",
    "    # - 각 카테고리에서 총합을 비교하여 상대적인 중요도를 파악 가능.\n",
    "    # - 특정 카테고리의 값이 유난히 크거나 작은 경우 데이터 이상치를 검토해야 함."
   ]
  },
  {
   "cell_type": "code",
   "execution_count": 7,
   "id": "b7b10782",
   "metadata": {},
   "outputs": [
    {
     "name": "stderr",
     "output_type": "stream",
     "text": [
      "C:\\Users\\SSAFY\\AppData\\Local\\Temp\\ipykernel_25496\\338898056.py:4: FutureWarning: \n",
      "\n",
      "Passing `palette` without assigning `hue` is deprecated and will be removed in v0.14.0. Assign the `x` variable to `hue` and set `legend=False` for the same effect.\n",
      "\n",
      "  sns.boxplot(data=df, x='Category', y='Value', palette='pastel')\n"
     ]
    },
    {
     "data": {
      "image/png": "[encoded data removed]",
      "text/plain": [
       "<Figure size 1200x600 with 1 Axes>"
      ]
     },
     "metadata": {},
     "output_type": "display_data"
    }
   ],
   "source": [
    "# 3. 카테고리별 분포 (Boxplot)\n",
    "\n",
    "plt.figure(figsize=(12, 6))\n",
    "sns.boxplot(data=df, x='Category', y='Value', palette='pastel')\n",
    "plt.title('카테고리별 값 분포')\n",
    "plt.xticks(rotation=45)\n",
    "plt.xlabel('카테고리')\n",
    "plt.ylabel('값')\n",
    "plt.show()\n",
    "\n",
    "# **해석**\n",
    "# - 각 카테고리별 값의 중앙값, 범위 및 이상치를 시각적으로 확인할 수 있음.\n",
    "# - 특정 카테고리에서 이상치가 많이 발견된다면 데이터 정제 작업이 필요할 수 있음."
   ]
  },
  {
   "cell_type": "code",
   "execution_count": null,
   "id": "f40bf7f5",
   "metadata": {},
   "outputs": [],
   "source": []
  }
 ],
 "metadata": {
  "kernelspec": {
   "display_name": "Python 3",
   "language": "python",
   "name": "python3"
  },
  "language_info": {
   "codemirror_mode": {
    "name": "ipython",
    "version": 3
   },
   "file_extension": ".py",
   "mimetype": "text/x-python",
   "name": "python",
   "nbconvert_exporter": "python",
   "pygments_lexer": "ipython3",
   "version": "3.11.9"
  }
 },
 "nbformat": 4,
 "nbformat_minor": 5
}
