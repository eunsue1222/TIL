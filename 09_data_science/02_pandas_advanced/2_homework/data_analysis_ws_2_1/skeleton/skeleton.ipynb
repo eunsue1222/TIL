{
 "cells": [
  {
   "cell_type": "code",
   "execution_count": 1,
   "id": "2f4d6dce",
   "metadata": {},
   "outputs": [],
   "source": [
    "import pandas as pd"
   ]
  },
  {
   "cell_type": "code",
   "execution_count": 2,
   "id": "5c91bafc",
   "metadata": {},
   "outputs": [
    {
     "data": {
      "text/html": [
       "<div>\n",
       "<style scoped>\n",
       "    .dataframe tbody tr th:only-of-type {\n",
       "        vertical-align: middle;\n",
       "    }\n",
       "\n",
       "    .dataframe tbody tr th {\n",
       "        vertical-align: top;\n",
       "    }\n",
       "\n",
       "    .dataframe thead th {\n",
       "        text-align: right;\n",
       "    }\n",
       "</style>\n",
       "<table border=\"1\" class=\"dataframe\">\n",
       "  <thead>\n",
       "    <tr style=\"text-align: right;\">\n",
       "      <th></th>\n",
       "      <th>CustomerID</th>\n",
       "      <th>Age</th>\n",
       "      <th>AnnualIncome</th>\n",
       "      <th>SpendingScore</th>\n",
       "      <th>PurchaseHistory</th>\n",
       "    </tr>\n",
       "  </thead>\n",
       "  <tbody>\n",
       "    <tr>\n",
       "      <th>0</th>\n",
       "      <td>1</td>\n",
       "      <td>47.0</td>\n",
       "      <td>63.0</td>\n",
       "      <td>19</td>\n",
       "      <td>12</td>\n",
       "    </tr>\n",
       "    <tr>\n",
       "      <th>1</th>\n",
       "      <td>2</td>\n",
       "      <td>31.0</td>\n",
       "      <td>73.0</td>\n",
       "      <td>67</td>\n",
       "      <td>7</td>\n",
       "    </tr>\n",
       "    <tr>\n",
       "      <th>2</th>\n",
       "      <td>3</td>\n",
       "      <td>NaN</td>\n",
       "      <td>NaN</td>\n",
       "      <td>1</td>\n",
       "      <td>17</td>\n",
       "    </tr>\n",
       "    <tr>\n",
       "      <th>3</th>\n",
       "      <td>4</td>\n",
       "      <td>33.0</td>\n",
       "      <td>66.0</td>\n",
       "      <td>71</td>\n",
       "      <td>15</td>\n",
       "    </tr>\n",
       "    <tr>\n",
       "      <th>4</th>\n",
       "      <td>5</td>\n",
       "      <td>22.0</td>\n",
       "      <td>127.0</td>\n",
       "      <td>61</td>\n",
       "      <td>11</td>\n",
       "    </tr>\n",
       "    <tr>\n",
       "      <th>...</th>\n",
       "      <td>...</td>\n",
       "      <td>...</td>\n",
       "      <td>...</td>\n",
       "      <td>...</td>\n",
       "      <td>...</td>\n",
       "    </tr>\n",
       "    <tr>\n",
       "      <th>995</th>\n",
       "      <td>996</td>\n",
       "      <td>63.0</td>\n",
       "      <td>102.0</td>\n",
       "      <td>12</td>\n",
       "      <td>19</td>\n",
       "    </tr>\n",
       "    <tr>\n",
       "      <th>996</th>\n",
       "      <td>997</td>\n",
       "      <td>55.0</td>\n",
       "      <td>20.0</td>\n",
       "      <td>11</td>\n",
       "      <td>7</td>\n",
       "    </tr>\n",
       "    <tr>\n",
       "      <th>997</th>\n",
       "      <td>998</td>\n",
       "      <td>49.0</td>\n",
       "      <td>102.0</td>\n",
       "      <td>39</td>\n",
       "      <td>5</td>\n",
       "    </tr>\n",
       "    <tr>\n",
       "      <th>998</th>\n",
       "      <td>999</td>\n",
       "      <td>21.0</td>\n",
       "      <td>135.0</td>\n",
       "      <td>15</td>\n",
       "      <td>17</td>\n",
       "    </tr>\n",
       "    <tr>\n",
       "      <th>999</th>\n",
       "      <td>1000</td>\n",
       "      <td>29.0</td>\n",
       "      <td>108.0</td>\n",
       "      <td>30</td>\n",
       "      <td>3</td>\n",
       "    </tr>\n",
       "  </tbody>\n",
       "</table>\n",
       "<p>1000 rows × 5 columns</p>\n",
       "</div>"
      ],
      "text/plain": [
       "     CustomerID   Age  AnnualIncome  SpendingScore  PurchaseHistory\n",
       "0             1  47.0          63.0             19               12\n",
       "1             2  31.0          73.0             67                7\n",
       "2             3   NaN           NaN              1               17\n",
       "3             4  33.0          66.0             71               15\n",
       "4             5  22.0         127.0             61               11\n",
       "..          ...   ...           ...            ...              ...\n",
       "995         996  63.0         102.0             12               19\n",
       "996         997  55.0          20.0             11                7\n",
       "997         998  49.0         102.0             39                5\n",
       "998         999  21.0         135.0             15               17\n",
       "999        1000  29.0         108.0             30                3\n",
       "\n",
       "[1000 rows x 5 columns]"
      ]
     },
     "execution_count": 2,
     "metadata": {},
     "output_type": "execute_result"
    }
   ],
   "source": [
    "# ===================== 1. 데이터 로드 =====================\n",
    "# CSV 파일을 읽어와 데이터프레임 생성\n",
    "file_path = '../data/customer_data.csv'  # 파일 경로 지정\n",
    "customer_data = pd.read_csv(file_path)  # CSV 파일 로드\n",
    "customer_data"
   ]
  },
  {
   "cell_type": "code",
   "execution_count": 3,
   "id": "afc6f02b",
   "metadata": {},
   "outputs": [
    {
     "name": "stdout",
     "output_type": "stream",
     "text": [
      "결측치 제거 후 데이터셋 크기: (900, 5)\n"
     ]
    }
   ],
   "source": [
    "# ===================== 3. 결측치 처리 =====================\n",
    "# dropna(): 결측치(NaN)가 있는 행을 제거하여 데이터 정제\n",
    "customer_data = customer_data.dropna(axis=0)\n",
    "\n",
    "# 결측치 제거 후 데이터 크기 출력\n",
    "print(f\"결측치 제거 후 데이터셋 크기: {customer_data.shape}\")  \n",
    "# shape: (행, 열) 형태의 데이터 크기 출력"
   ]
  },
  {
   "cell_type": "code",
   "execution_count": 4,
   "id": "3b1402b8",
   "metadata": {},
   "outputs": [
    {
     "name": "stdout",
     "output_type": "stream",
     "text": [
      "Age 이상치 처리 전후 데이터셋 크기: (900, 5) -> (899, 5)\n",
      "AnnualIncome 이상치 처리 전후 데이터셋 크기: (899, 5) -> (899, 5)\n"
     ]
    }
   ],
   "source": [
    "# ===================== 4. 이상치 탐지 및 처리 =====================\n",
    "# 이상치를 탐지하기 위해 IQR(Interquartile Range, 사분위 범위) 방법 사용\n",
    "for column in ['Age', 'AnnualIncome']:  # 이상치를 탐지할 컬럼 선택\n",
    "    Q1 = customer_data[column].quantile(0.25)  # 1사분위(Q1, 25% 지점)\n",
    "    Q3 = customer_data[column].quantile(0.75)  # 3사분위(Q3, 75% 지점)\n",
    "    IQR = Q3 - Q1  # 사분위 범위 (IQR = Q3 - Q1)\n",
    "\n",
    "    # 이상치 경계값 설정\n",
    "    lower_bound = Q1 - 1.5 * IQR  # 하한값: Q1 - 1.5 * IQR\n",
    "    upper_bound = Q3 + 1.5 * IQR  # 상한값: Q3 + 1.5 * IQR\n",
    "\n",
    "    # 기존 데이터 크기 저장\n",
    "    initial_shape = customer_data.shape  \n",
    "\n",
    "    # 이상치를 제거한 데이터프레임 생성 (lower_bound보다 크거나 upper_bound보다 작은 데이터만 남김)\n",
    "    customer_data = customer_data[(customer_data[column] >= lower_bound) & (customer_data[column] <= upper_bound)]\n",
    "\n",
    "    # 이상치 처리 전후 데이터 크기 출력\n",
    "    print(f\"{column} 이상치 처리 전후 데이터셋 크기: {initial_shape} -> {customer_data.shape}\")"
   ]
  }
 ],
 "metadata": {
  "kernelspec": {
   "display_name": "Python 3",
   "language": "python",
   "name": "python3"
  },
  "language_info": {
   "codemirror_mode": {
    "name": "ipython",
    "version": 3
   },
   "file_extension": ".py",
   "mimetype": "text/x-python",
   "name": "python",
   "nbconvert_exporter": "python",
   "pygments_lexer": "ipython3",
   "version": "3.11.9"
  }
 },
 "nbformat": 4,
 "nbformat_minor": 5
}
