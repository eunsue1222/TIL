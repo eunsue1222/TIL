{
 "cells": [
  {
   "cell_type": "markdown",
   "metadata": {
    "id": "6VpoU-E5oOFK"
   },
   "source": [
    "\n",
    "목표 : A구와 B구의 승용차 이용류 비교 (단측 vs 양측 검정 수행)"
   ]
  },
  {
   "cell_type": "code",
   "execution_count": 1,
   "metadata": {},
   "outputs": [
    {
     "data": {
      "image/png": "[encoded data removed]",
      "text/plain": [
       "<Figure size 800x500 with 1 Axes>"
      ]
     },
     "metadata": {},
     "output_type": "display_data"
    }
   ],
   "source": [
    "import numpy as np\n",
    "import pandas as pd\n",
    "import scipy.stats as stats\n",
    "import matplotlib.pyplot as plt\n",
    "import seaborn as sns\n",
    "import matplotlib.pyplot as plt\n",
    "import matplotlib.font_manager as fm\n",
    "plt.rcParams['font.family'] = 'Malgun Gothic'\n",
    "\n",
    "# 랜덤 시드 설정\n",
    "np.random.seed(42)\n",
    "\n",
    "# 가상의 승용차 이용률 데이터 생성 (평균 35%, 40%)\n",
    "a_district = np.random.normal(loc=35, scale=5, size=30)  # A구\n",
    "b_district = np.random.normal(loc=40, scale=5, size=30)  # B구\n",
    "\n",
    "# 데이터프레임 생성\n",
    "df = pd.DataFrame({'승용차 이용률': np.concatenate([a_district, b_district]),\n",
    "                   '자치구': ['A구'] * 30 + ['B구'] * 30})\n",
    "\n",
    "# 데이터 시각화 (박스플롯)\n",
    "plt.figure(figsize=(8, 5))\n",
    "sns.boxplot(x='자치구', y='승용차 이용률', data=df)\n",
    "plt.title(\"A구와 B구의 승용차 이용률 비교\")\n",
    "plt.show()\n"
   ]
  },
  {
   "cell_type": "code",
   "execution_count": 2,
   "metadata": {},
   "outputs": [
    {
     "name": "stdout",
     "output_type": "stream",
     "text": [
      "양측 검정 결과:\n",
      "t-통계량: -4.5129, p-value: 0.0000\n",
      "귀무가설 기각 → A구와 B구의 승용차 이용률 차이가 유의미함\n"
     ]
    }
   ],
   "source": [
    "# 양측 검정 (두 집단 평균 비교)\n",
    "t_stat, p_value = stats.ttest_ind(a_district, b_district, equal_var=True)\n",
    "\n",
    "print(f\"양측 검정 결과:\")\n",
    "print(f\"t-통계량: {t_stat:.4f}, p-value: {p_value:.4f}\")\n",
    "\n",
    "# p-value 해석\n",
    "if p_value <= 0.05:\n",
    "    print(\"귀무가설 기각 → A구와 B구의 승용차 이용률 차이가 유의미함\")\n",
    "else:\n",
    "    print(\"귀무가설 유지 → A구와 B구의 승용차 이용률 차이가 우연일 가능성이 큼\")\n"
   ]
  },
  {
   "cell_type": "code",
   "execution_count": 3,
   "metadata": {},
   "outputs": [
    {
     "name": "stdout",
     "output_type": "stream",
     "text": [
      "단측 검정 결과 (A구 < B구):\n",
      "t-통계량: -4.5129, p-value: 0.0000\n",
      "귀무가설 기각 → A구의 승용차 이용률이 B구보다 유의미하게 낮음\n"
     ]
    }
   ],
   "source": [
    "# 단측 검정 (A구가 B구보다 작은지 검정)\n",
    "t_stat, p_value_one_sided = stats.ttest_ind(a_district, b_district, alternative='less', equal_var=True)\n",
    "\n",
    "print(f\"단측 검정 결과 (A구 < B구):\")\n",
    "print(f\"t-통계량: {t_stat:.4f}, p-value: {p_value_one_sided:.4f}\")\n",
    "\n",
    "# p-value 해석\n",
    "if p_value_one_sided <= 0.05:\n",
    "    print(\"귀무가설 기각 → A구의 승용차 이용률이 B구보다 유의미하게 낮음\")\n",
    "else:\n",
    "    print(\"귀무가설 유지 → A구와 B구의 승용차 이용률 차이가 우연일 가능성이 큼\")\n"
   ]
  },
  {
   "cell_type": "code",
   "execution_count": null,
   "metadata": {},
   "outputs": [],
   "source": []
  }
 ],
 "metadata": {
  "accelerator": "GPU",
  "colab": {
   "authorship_tag": "ABX9TyMsOkTCapH5UcKa6ne5t0Ll",
   "gpuType": "T4",
   "provenance": []
  },
  "kernelspec": {
   "display_name": "Python 3",
   "language": "python",
   "name": "python3"
  },
  "language_info": {
   "codemirror_mode": {
    "name": "ipython",
    "version": 3
   },
   "file_extension": ".py",
   "mimetype": "text/x-python",
   "name": "python",
   "nbconvert_exporter": "python",
   "pygments_lexer": "ipython3",
   "version": "3.11.9"
  }
 },
 "nbformat": 4,
 "nbformat_minor": 0
}
