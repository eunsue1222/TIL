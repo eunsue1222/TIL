{
 "cells": [
  {
   "cell_type": "code",
   "execution_count": 1,
   "id": "eb2ce578",
   "metadata": {},
   "outputs": [],
   "source": [
    "import numpy as np\n",
    "import pandas as pd\n",
    "from sklearn.linear_model import LinearRegression\n",
    "from sklearn.preprocessing import PolynomialFeatures\n",
    "from sklearn.model_selection import train_test_split\n",
    "from sklearn.metrics import mean_squared_error"
   ]
  },
  {
   "cell_type": "code",
   "execution_count": 2,
   "metadata": {},
   "outputs": [
    {
     "name": "stdout",
     "output_type": "stream",
     "text": [
      "<class 'pandas.core.frame.DataFrame'>\n",
      "RangeIndex: 42 entries, 0 to 41\n",
      "Data columns (total 33 columns):\n",
      " #   Column  Non-Null Count  Dtype  \n",
      "---  ------  --------------  -----  \n",
      " 0   일자      42 non-null     int64  \n",
      " 1   요일      42 non-null     object \n",
      " 2   지점명     42 non-null     object \n",
      " 3   지점번호    42 non-null     object \n",
      " 4   방향      42 non-null     object \n",
      " 5   구분      42 non-null     object \n",
      " 6   0시      42 non-null     float64\n",
      " 7   1시      42 non-null     float64\n",
      " 8   2시      42 non-null     float64\n",
      " 9   3시      42 non-null     float64\n",
      " 10  4시      42 non-null     float64\n",
      " 11  5시      42 non-null     float64\n",
      " 12  6시      42 non-null     float64\n",
      " 13  7시      42 non-null     float64\n",
      " 14  8시      42 non-null     float64\n",
      " 15  9시      42 non-null     float64\n",
      " 16  10시     42 non-null     float64\n",
      " 17  11시     42 non-null     float64\n",
      " 18  12시     42 non-null     float64\n",
      " 19  13시     42 non-null     float64\n",
      " 20  14시     42 non-null     float64\n",
      " 21  15시     42 non-null     float64\n",
      " 22  16시     42 non-null     float64\n",
      " 23  17시     42 non-null     float64\n",
      " 24  18시     42 non-null     float64\n",
      " 25  19시     42 non-null     float64\n",
      " 26  20시     42 non-null     float64\n",
      " 27  21시     42 non-null     float64\n",
      " 28  22시     42 non-null     float64\n",
      " 29  23시     42 non-null     float64\n",
      " 30  혼잡      42 non-null     bool   \n",
      " 31  평균교통량   42 non-null     float64\n",
      " 32  새로운 혼잡  42 non-null     bool   \n",
      "dtypes: bool(2), float64(25), int64(1), object(5)\n",
      "memory usage: 10.4+ KB\n"
     ]
    }
   ],
   "source": [
    "# 1. 데이터 로드\n",
    "weekdays_data = pd.read_excel('../data/weekday_traffic.xlsx')\n",
    "weekdays_data.info()"
   ]
  },
  {
   "cell_type": "code",
   "execution_count": 3,
   "id": "56f3b46b",
   "metadata": {},
   "outputs": [
    {
     "data": {
      "text/plain": [
       "array([[ 0],\n",
       "       [ 1],\n",
       "       [ 2],\n",
       "       [ 3],\n",
       "       [ 4],\n",
       "       [ 5],\n",
       "       [ 6],\n",
       "       [ 7],\n",
       "       [ 8],\n",
       "       [ 9],\n",
       "       [10],\n",
       "       [11],\n",
       "       [12],\n",
       "       [13],\n",
       "       [14],\n",
       "       [15],\n",
       "       [16],\n",
       "       [17],\n",
       "       [18],\n",
       "       [19],\n",
       "       [20],\n",
       "       [21],\n",
       "       [22],\n",
       "       [23],\n",
       "       [24],\n",
       "       [25],\n",
       "       [26],\n",
       "       [27],\n",
       "       [28],\n",
       "       [29],\n",
       "       [30],\n",
       "       [31],\n",
       "       [32],\n",
       "       [33],\n",
       "       [34],\n",
       "       [35],\n",
       "       [36],\n",
       "       [37],\n",
       "       [38],\n",
       "       [39],\n",
       "       [40],\n",
       "       [41]])"
      ]
     },
     "execution_count": 3,
     "metadata": {},
     "output_type": "execute_result"
    }
   ],
   "source": [
    "# 2. 독립 변수: 각 날의 8시만 사용 (날짜별로 동일한 시간)\n",
    "# numpy의 arange() 함수와 reshape()을 사용하여 각 날을 나타내는 인덱스 배열을 생성합니다. (참고: https://numpy.org/doc/stable/reference/generated/numpy.arange.html)\n",
    "days = np.arange(len(weekdays_data)).reshape(-1, 1)\n",
    "days"
   ]
  },
  {
   "cell_type": "code",
   "execution_count": 4,
   "id": "9c3bf2dc",
   "metadata": {},
   "outputs": [
    {
     "data": {
      "text/plain": [
       "array([3590.40324227, 3622.9342971 , 3740.27515773, 4044.15239877,\n",
       "       3804.50583432, 4250.79971624, 3882.4602711 , 4363.70564406,\n",
       "       3932.87124153, 4194.83771876, 3482.38867667, 4365.63262009,\n",
       "       3927.4535222 , 3817.71195959, 3973.01761935, 4179.15387775,\n",
       "       4226.19967809, 4026.32094178, 4134.70643255, 4617.91287653,\n",
       "       4386.92529619, 3031.69288419, 3077.27789889, 3548.90481946,\n",
       "       3390.83060327, 3521.23999853, 3641.1586441 , 3237.14331822,\n",
       "       3138.08500627, 3663.16074967, 3286.92335169, 3388.11655951,\n",
       "       3347.20516217, 3534.46098968, 3728.08581445, 3870.00962126,\n",
       "       3533.13875879, 4158.76612034, 3627.10454473, 3891.29446109,\n",
       "       3427.92716781, 3211.68740769])"
      ]
     },
     "execution_count": 4,
     "metadata": {},
     "output_type": "execute_result"
    }
   ],
   "source": [
    "# 3. 종속 변수: 각 날의 8시 교통량 데이터\n",
    "# 교통량 데이터는 '8시'라는 컬럼명을 기준으로 가져옵니다. (참고: https://pandas.pydata.org/pandas-docs/stable/reference/api/pandas.DataFrame.loc.html)\n",
    "traffic_at_8am = weekdays_data['8시'].values\n",
    "traffic_at_8am"
   ]
  },
  {
   "cell_type": "markdown",
   "id": "bf3b44bb",
   "metadata": {},
   "source": [
    "# 단항 회귀 (선형 회귀)"
   ]
  },
  {
   "cell_type": "code",
   "execution_count": 5,
   "metadata": {},
   "outputs": [],
   "source": [
    "# 4. 데이터 분리 (훈련 데이터 80%, 테스트 데이터 20%)\n",
    "# train_test_split()을 사용해 데이터를 훈련 세트와 테스트 세트로 나눕니다. (참고: https://scikit-learn.org/stable/modules/generated/sklearn.model_selection.train_test_split.html)\n",
    "X_train, X_test, y_train, y_test = train_test_split(days, traffic_at_8am, test_size=0.2, random_state=42)\n"
   ]
  },
  {
   "cell_type": "code",
   "execution_count": 6,
   "id": "016d0a2c",
   "metadata": {},
   "outputs": [
    {
     "data": {
      "text/plain": [
       "LinearRegression()"
      ]
     },
     "execution_count": 6,
     "metadata": {},
     "output_type": "execute_result"
    }
   ],
   "source": [
    "# 5. 선형 회귀 모델 생성 및 학습 (단항 회귀)\n",
    "# LinearRegression 객체를 생성하고, 훈련 데이터를 학습시킵니다. (참고: https://scikit-learn.org/stable/modules/generated/sklearn.linear_model.LinearRegression.html)\n",
    "linear_model = LinearRegression()\n",
    "linear_model.fit(X_train, y_train)"
   ]
  },
  {
   "cell_type": "code",
   "execution_count": 7,
   "id": "da4dbddf",
   "metadata": {},
   "outputs": [],
   "source": [
    "# 6. 테스트 데이터로 예측\n",
    "# 학습된 모델을 사용하여 테스트 데이터를 예측합니다.\n",
    "y_pred_linear = linear_model.predict(X_test)"
   ]
  },
  {
   "cell_type": "code",
   "execution_count": 8,
   "id": "f526b805",
   "metadata": {},
   "outputs": [
    {
     "name": "stdout",
     "output_type": "stream",
     "text": [
      "단항 회귀 모델의 RMSE: 342.67\n"
     ]
    }
   ],
   "source": [
    "# 7. 성능 평가 (MSE, RMSE)\n",
    "# mean_squared_error()를 사용하여 MSE(평균 제곱 오차)를 계산하고, 이를 바탕으로 RMSE를 계산합니다. (참고: https://scikit-learn.org/stable/modules/generated/sklearn.metrics.mean_squared_error.html)\n",
    "mse_linear = mean_squared_error(y_test, y_pred_linear)\n",
    "rmse_linear = np.sqrt(mse_linear)\n",
    "print(f\"단항 회귀 모델의 RMSE: {rmse_linear:.2f}\")"
   ]
  },
  {
   "cell_type": "markdown",
   "id": "36f1b521",
   "metadata": {},
   "source": [
    "# 다항 회귀"
   ]
  },
  {
   "cell_type": "code",
   "execution_count": 9,
   "id": "1967d04c",
   "metadata": {},
   "outputs": [],
   "source": [
    "# 8. 다항 특성 생성 (2차 다항식 사용)\n",
    "# PolynomialFeatures()를 사용해 2차 다항식을 생성합니다. (참고: https://scikit-learn.org/stable/modules/generated/sklearn.preprocessing.PolynomialFeatures.html)\n",
    "poly = PolynomialFeatures(degree=2)\n",
    "# 독립 변수를 다항식으로 변환하는 과정입니다.\n",
    "days_poly = poly.fit_transform(days)"
   ]
  },
  {
   "cell_type": "code",
   "execution_count": null,
   "id": "42e94d14",
   "metadata": {},
   "outputs": [],
   "source": [
    "# 9. 데이터 분리 (훈련 데이터 80%, 테스트 데이터 20%)\n",
    "# 다항 회귀에서도 동일하게 데이터를 분리합니다.\n",
    "X_train_poly, X_test_poly, y_train_poly, y_test_poly = train_test_split(days_poly, traffic_at_8am, test_size=0.2, random_state=42)"
   ]
  },
  {
   "cell_type": "code",
   "execution_count": 11,
   "id": "bb430fcc",
   "metadata": {},
   "outputs": [
    {
     "data": {
      "text/plain": [
       "LinearRegression()"
      ]
     },
     "execution_count": 11,
     "metadata": {},
     "output_type": "execute_result"
    }
   ],
   "source": [
    "# 10. 선형 회귀 모델 생성 및 학습 (다항 회귀)\n",
    "# 다항 회귀에서도 선형 회귀 모델을 학습시킵니다.\n",
    "poly_model = LinearRegression()\n",
    "poly_model.fit(X_train_poly, y_train_poly)"
   ]
  },
  {
   "cell_type": "code",
   "execution_count": 12,
   "id": "5fd66822",
   "metadata": {},
   "outputs": [],
   "source": [
    "# 11. 테스트 데이터로 예측\n",
    "# 학습된 다항 회귀 모델을 사용하여 테스트 데이터를 예측합니다.\n",
    "y_pred_poly = poly_model.predict(X_test_poly)"
   ]
  },
  {
   "cell_type": "code",
   "execution_count": 13,
   "id": "e18e45ca",
   "metadata": {},
   "outputs": [
    {
     "name": "stdout",
     "output_type": "stream",
     "text": [
      "다항 회귀 모델의 RMSE: 341.62\n"
     ]
    }
   ],
   "source": [
    "# 12. 성능 평가 (MSE, RMSE)\n",
    "# 다항 회귀의 성능을 MSE, RMSE로 평가합니다. (참고: https://scikit-learn.org/stable/modules/generated/sklearn.metrics.mean_squared_error.html)\n",
    "mse_poly = mean_squared_error(y_test_poly, y_pred_poly)\n",
    "rmse_poly = np.sqrt(mse_poly)\n",
    "print(f\"다항 회귀 모델의 RMSE: {rmse_poly:.2f}\")"
   ]
  },
  {
   "cell_type": "markdown",
   "id": "46c8af10",
   "metadata": {},
   "source": [
    "# 교통량 예측 비교"
   ]
  },
  {
   "cell_type": "code",
   "execution_count": 14,
   "id": "75b0e331",
   "metadata": {},
   "outputs": [
    {
     "data": {
      "text/plain": [
       "3441.5710715983987"
      ]
     },
     "execution_count": 14,
     "metadata": {},
     "output_type": "execute_result"
    }
   ],
   "source": [
    "# 13. 마지막 날의 교통량 예측 (단항 회귀)\n",
    "# 학습된 선형 회귀 모델로 마지막 날의 8시 교통량을 예측합니다.\n",
    "predicted_traffic_linear = linear_model.predict(np.array([[len(weekdays_data)]]))[0]\n",
    "predicted_traffic_linear"
   ]
  },
  {
   "cell_type": "code",
   "execution_count": 15,
   "id": "bf5db856",
   "metadata": {},
   "outputs": [
    {
     "data": {
      "text/plain": [
       "3385.1927499502085"
      ]
     },
     "execution_count": 15,
     "metadata": {},
     "output_type": "execute_result"
    }
   ],
   "source": [
    "# 14. 마지막 날의 교통량 예측 (다항 회귀)\n",
    "# 학습된 다항 회귀 모델로 마지막 날의 8시 교통량을 예측합니다.\n",
    "last_day_index_poly = poly.transform(np.array([[len(weekdays_data)]]))\n",
    "predicted_traffic_poly = poly_model.predict(last_day_index_poly)[0]\n",
    "predicted_traffic_poly"
   ]
  },
  {
   "cell_type": "code",
   "execution_count": 16,
   "id": "d2adf278",
   "metadata": {},
   "outputs": [
    {
     "name": "stdout",
     "output_type": "stream",
     "text": [
      "\n",
      "실제 8시 교통량: 3211.69\n",
      "단항 회귀로 예측한 8시 교통량: 3441.57\n",
      "다항 회귀로 예측한 8시 교통량: 3385.19\n"
     ]
    }
   ],
   "source": [
    "# 15. 마지막 날의 실제 교통량과 예측 교통량 비교\n",
    "# 실제 교통량과 예측된 값을 출력하여 모델 성능을 비교합니다.\n",
    "last_day_traffic = weekdays_data.iloc[-1]['8시']\n",
    "print(f\"\\n실제 8시 교통량: {last_day_traffic:.2f}\")\n",
    "print(f\"단항 회귀로 예측한 8시 교통량: {predicted_traffic_linear:.2f}\")\n",
    "print(f\"다항 회귀로 예측한 8시 교통량: {predicted_traffic_poly:.2f}\")"
   ]
  },
  {
   "cell_type": "code",
   "execution_count": null,
   "id": "595584c9",
   "metadata": {},
   "outputs": [],
   "source": []
  }
 ],
 "metadata": {
  "kernelspec": {
   "display_name": "base",
   "language": "python",
   "name": "python3"
  },
  "language_info": {
   "codemirror_mode": {
    "name": "ipython",
    "version": 3
   },
   "file_extension": ".py",
   "mimetype": "text/x-python",
   "name": "python",
   "nbconvert_exporter": "python",
   "pygments_lexer": "ipython3",
   "version": "3.7.9"
  }
 },
 "nbformat": 4,
 "nbformat_minor": 5
}
