{
 "cells": [
  {
   "cell_type": "code",
   "execution_count": 1,
   "id": "357a6cbb",
   "metadata": {},
   "outputs": [],
   "source": [
    "import mlflow"
   ]
  },
  {
   "cell_type": "code",
   "execution_count": 2,
   "id": "dbe72740",
   "metadata": {},
   "outputs": [],
   "source": [
    "mlflow.set_tracking_uri(\"http://127.0.0.1:5000\")"
   ]
  },
  {
   "cell_type": "code",
   "execution_count": 3,
   "id": "1e8c11f9",
   "metadata": {},
   "outputs": [],
   "source": [
    "# 숫자를 제곱하는 간단한 함수 정의\n",
    "def square_number(x):\n",
    "    return x * x"
   ]
  },
  {
   "cell_type": "code",
   "execution_count": 4,
   "id": "6bc6c492",
   "metadata": {},
   "outputs": [
    {
     "name": "stdout",
     "output_type": "stream",
     "text": [
      "🏃 View run square_1 at: http://127.0.0.1:5000/#/experiments/0/runs/add011c8f08346de8fcc8cc3532e79c8\n",
      "🧪 View experiment at: http://127.0.0.1:5000/#/experiments/0\n",
      "🏃 View run square_2 at: http://127.0.0.1:5000/#/experiments/0/runs/0346e77947c142b0bc0816461dbc6059\n",
      "🧪 View experiment at: http://127.0.0.1:5000/#/experiments/0\n",
      "🏃 View run square_3 at: http://127.0.0.1:5000/#/experiments/0/runs/9ffd6dceed6240719aee8b462c5d5970\n",
      "🧪 View experiment at: http://127.0.0.1:5000/#/experiments/0\n",
      "🏃 View run square_4 at: http://127.0.0.1:5000/#/experiments/0/runs/fb52a2b73c1541d992057bcd4a0bfae7\n",
      "🧪 View experiment at: http://127.0.0.1:5000/#/experiments/0\n",
      "🏃 View run square_5 at: http://127.0.0.1:5000/#/experiments/0/runs/27cd0825965441c28c5ba59d17ff47f8\n",
      "🧪 View experiment at: http://127.0.0.1:5000/#/experiments/0\n",
      "🏃 View run square_6 at: http://127.0.0.1:5000/#/experiments/0/runs/060c2733228e404b919e3babd336dc99\n",
      "🧪 View experiment at: http://127.0.0.1:5000/#/experiments/0\n",
      "🏃 View run square_7 at: http://127.0.0.1:5000/#/experiments/0/runs/56ae90ed283d45369bcf4f2dadfc6062\n",
      "🧪 View experiment at: http://127.0.0.1:5000/#/experiments/0\n",
      "🏃 View run square_8 at: http://127.0.0.1:5000/#/experiments/0/runs/4d07d9bbf1dc4c559966b22cd580afb9\n",
      "🧪 View experiment at: http://127.0.0.1:5000/#/experiments/0\n",
      "🏃 View run square_9 at: http://127.0.0.1:5000/#/experiments/0/runs/56fb159a7d894bf3975ade412cdc7ea7\n",
      "🧪 View experiment at: http://127.0.0.1:5000/#/experiments/0\n",
      "🏃 View run square_10 at: http://127.0.0.1:5000/#/experiments/0/runs/a4b9560214be4880b57773d2348479cc\n",
      "🧪 View experiment at: http://127.0.0.1:5000/#/experiments/0\n"
     ]
    }
   ],
   "source": [
    "# 1부터 10까지 숫자를 반복하여 MLflow로 실험 추적 수행\n",
    "for x in range(1, 11) :\n",
    "    # MLflow의 실험 기록을 시작 (각 숫자마다 새로운 Run 생성)\n",
    "    # run_name으로 \"square_1\", \"square_2\", ..., \"square_10\" 등 이름 지정\n",
    "    with mlflow.start_run(run_name=f\"square_{x}\"):\n",
    "        result = square_number(x)  # 현재 숫자를 제곱하여 결과 계산\n",
    "        mlflow.log_param(\"inpu_number\", x)   # 현재 입력한 숫자(x)를 MLflow 파라미터로 기록\n",
    "        mlflow.log_metric(\"square_result\", result)  # 제곱한 결과를 MLflow 메트릭으로 기록"
   ]
  },
  {
   "cell_type": "code",
   "execution_count": null,
   "id": "cae8c1e8",
   "metadata": {},
   "outputs": [],
   "source": []
  }
 ],
 "metadata": {
  "kernelspec": {
   "display_name": "mlflow-env (3.11.9)",
   "language": "python",
   "name": "python3"
  },
  "language_info": {
   "codemirror_mode": {
    "name": "ipython",
    "version": 3
   },
   "file_extension": ".py",
   "mimetype": "text/x-python",
   "name": "python",
   "nbconvert_exporter": "python",
   "pygments_lexer": "ipython3",
   "version": "3.11.9"
  }
 },
 "nbformat": 4,
 "nbformat_minor": 5
}
