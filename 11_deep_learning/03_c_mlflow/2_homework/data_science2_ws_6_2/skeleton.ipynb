{
 "cells": [
  {
   "cell_type": "code",
   "execution_count": 1,
   "id": "cae8c1e8",
   "metadata": {},
   "outputs": [
    {
     "name": "stderr",
     "output_type": "stream",
     "text": [
      "2025/10/01 14:10:01 INFO mlflow.tracking.fluent: Experiment with name 'my_first_experiment' does not exist. Creating a new experiment.\n"
     ]
    },
    {
     "data": {
      "text/plain": [
       "<Experiment: artifact_location='mlflow-artifacts:/186939203836003937', creation_time=1759295401530, experiment_id='186939203836003937', last_update_time=1759295401530, lifecycle_stage='active', name='my_first_experiment', tags={}>"
      ]
     },
     "execution_count": 1,
     "metadata": {},
     "output_type": "execute_result"
    }
   ],
   "source": [
    "import mlflow\n",
    "\n",
    "# Tracking Server 설정\n",
    "mlflow.set_tracking_uri(uri=\"http://127.0.0.1:5000\")\n",
    "\n",
    "# 새로운 MLFlow 실험을 생성\n",
    "mlflow.set_experiment(\"my_first_experiment\") # 원하는 실험명을 작성"
   ]
  },
  {
   "cell_type": "code",
   "execution_count": 2,
   "id": "24538397",
   "metadata": {},
   "outputs": [
    {
     "name": "stdout",
     "output_type": "stream",
     "text": [
      "🏃 View run charming-ant-739 at: http://127.0.0.1:5000/#/experiments/186939203836003937/runs/c762982c133246b2bb2946cee08fb4ac\n",
      "🧪 View experiment at: http://127.0.0.1:5000/#/experiments/186939203836003937\n",
      "🏃 View run crawling-ape-76 at: http://127.0.0.1:5000/#/experiments/186939203836003937/runs/723c9348d21748be88ab3bb3406a47a4\n",
      "🧪 View experiment at: http://127.0.0.1:5000/#/experiments/186939203836003937\n",
      "🏃 View run skittish-robin-361 at: http://127.0.0.1:5000/#/experiments/186939203836003937/runs/7d51bd54b7204fe8a0e7c40de0f8a8a9\n",
      "🧪 View experiment at: http://127.0.0.1:5000/#/experiments/186939203836003937\n",
      "🏃 View run learned-cow-899 at: http://127.0.0.1:5000/#/experiments/186939203836003937/runs/da1eb77fbb55489ba726d170e153c714\n",
      "🧪 View experiment at: http://127.0.0.1:5000/#/experiments/186939203836003937\n",
      "🏃 View run rare-quail-184 at: http://127.0.0.1:5000/#/experiments/186939203836003937/runs/c57a4c863467436a8aba59779286e96a\n",
      "🧪 View experiment at: http://127.0.0.1:5000/#/experiments/186939203836003937\n"
     ]
    }
   ],
   "source": [
    "accuracy = [0.85, 0.88, 1.0, 0.9, 0.85]\n",
    "\n",
    "for i in range(5): \n",
    "    with mlflow.start_run():\n",
    "        mlflow.log_param(\"pram1\", i+1)\n",
    "        mlflow.log_metric(\"accuracy\", accuracy[i])"
   ]
  },
  {
   "cell_type": "code",
   "execution_count": null,
   "id": "0186c60a",
   "metadata": {},
   "outputs": [],
   "source": []
  }
 ],
 "metadata": {
  "kernelspec": {
   "display_name": "mlflow-env (3.11.9)",
   "language": "python",
   "name": "python3"
  },
  "language_info": {
   "codemirror_mode": {
    "name": "ipython",
    "version": 3
   },
   "file_extension": ".py",
   "mimetype": "text/x-python",
   "name": "python",
   "nbconvert_exporter": "python",
   "pygments_lexer": "ipython3",
   "version": "3.11.9"
  }
 },
 "nbformat": 4,
 "nbformat_minor": 5
}
